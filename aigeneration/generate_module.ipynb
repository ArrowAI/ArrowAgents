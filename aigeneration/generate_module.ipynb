{
 "cells": [
  {
   "cell_type": "code",
   "execution_count": 1,
   "metadata": {},
   "outputs": [
    {
     "name": "stdout",
     "output_type": "stream",
     "text": [
      "Requirement already satisfied: openai in /Users/utkarshshukla/Arrowai/ArrowAgent/.venv/lib/python3.12/site-packages (1.12.0)\n",
      "Requirement already satisfied: anyio<5,>=3.5.0 in /Users/utkarshshukla/Arrowai/ArrowAgent/.venv/lib/python3.12/site-packages (from openai) (4.2.0)\n",
      "Requirement already satisfied: distro<2,>=1.7.0 in /Users/utkarshshukla/Arrowai/ArrowAgent/.venv/lib/python3.12/site-packages (from openai) (1.9.0)\n",
      "Requirement already satisfied: httpx<1,>=0.23.0 in /Users/utkarshshukla/Arrowai/ArrowAgent/.venv/lib/python3.12/site-packages (from openai) (0.26.0)\n",
      "Requirement already satisfied: pydantic<3,>=1.9.0 in /Users/utkarshshukla/Arrowai/ArrowAgent/.venv/lib/python3.12/site-packages (from openai) (2.6.1)\n",
      "Requirement already satisfied: sniffio in /Users/utkarshshukla/Arrowai/ArrowAgent/.venv/lib/python3.12/site-packages (from openai) (1.3.0)\n",
      "Requirement already satisfied: tqdm>4 in /Users/utkarshshukla/Arrowai/ArrowAgent/.venv/lib/python3.12/site-packages (from openai) (4.66.2)\n",
      "Requirement already satisfied: typing-extensions<5,>=4.7 in /Users/utkarshshukla/Arrowai/ArrowAgent/.venv/lib/python3.12/site-packages (from openai) (4.9.0)\n",
      "Requirement already satisfied: idna>=2.8 in /Users/utkarshshukla/Arrowai/ArrowAgent/.venv/lib/python3.12/site-packages (from anyio<5,>=3.5.0->openai) (3.6)\n",
      "Requirement already satisfied: certifi in /Users/utkarshshukla/Arrowai/ArrowAgent/.venv/lib/python3.12/site-packages (from httpx<1,>=0.23.0->openai) (2024.2.2)\n",
      "Requirement already satisfied: httpcore==1.* in /Users/utkarshshukla/Arrowai/ArrowAgent/.venv/lib/python3.12/site-packages (from httpx<1,>=0.23.0->openai) (1.0.2)\n",
      "Requirement already satisfied: h11<0.15,>=0.13 in /Users/utkarshshukla/Arrowai/ArrowAgent/.venv/lib/python3.12/site-packages (from httpcore==1.*->httpx<1,>=0.23.0->openai) (0.14.0)\n",
      "Requirement already satisfied: annotated-types>=0.4.0 in /Users/utkarshshukla/Arrowai/ArrowAgent/.venv/lib/python3.12/site-packages (from pydantic<3,>=1.9.0->openai) (0.6.0)\n",
      "Requirement already satisfied: pydantic-core==2.16.2 in /Users/utkarshshukla/Arrowai/ArrowAgent/.venv/lib/python3.12/site-packages (from pydantic<3,>=1.9.0->openai) (2.16.2)\n"
     ]
    }
   ],
   "source": [
    "! pip install openai"
   ]
  },
  {
   "cell_type": "code",
   "execution_count": 2,
   "metadata": {},
   "outputs": [
    {
     "name": "stdout",
     "output_type": "stream",
     "text": [
      "ChatCompletionMessage(content=\"In the realm of codes, where logic abides,\\nA concept arises, where ingenuity resides.\\nBehold, dear coder, the power of recursion,\\nA poetic dance of self-reference execution.\\n\\nLike a mirror reflecting its own reflection,\\nRecursion unfolds with a rhythmic expression.\\nA function calling itself, full of grace,\\nDelving deeper, in an elegant chase.\\n\\nImagine a puzzle, complex and grand,\\nA problem too vast for a mere command.\\nWith recursion, we start from within,\\nBreaking it down, from outside skin.\\n\\nFrom the first glance, complexity hides,\\nBut recursion uncovers the truth it abides.\\nLike a spiral staircase, ascending high,\\nLayers upon layers, till we touch the sky.\\n\\nA function, with a vision that transcends,\\nDivides and conquers, as friendship mends.\\nTaking a piece, a fraction of the whole,\\nSolving the piece, makes the puzzle unroll.\\n\\nThrough recursion, the fragments unite,\\nEach problem becomes a tiny light.\\nReturning solutions, like gifts from above,\\nAs the function ascends, spreading love.\\n\\nYet caution prevails, dear coder’s friend,\\nFor infinite loops, recursion can send.\\nBase cases, the guardrails of this dance,\\nStopping the cycle, before a mischance.\\n\\nRecursion, a tool of strength and might,\\nPouring elegance within the coding site.\\nA call and a return, a poetic duet,\\nSolving problems, we’ll never forget.\\n\\nSo let us embrace this mystical verse,\\nIn the waltz of recursion, we immerse.\\nWith clever steps and a heart that's wise,\\nWe solve the enigmas, under digital skies.\", role='assistant', function_call=None, tool_calls=None)\n"
     ]
    }
   ],
   "source": [
    "from openai import OpenAI\n",
    "client = OpenAI()\n",
    "\n",
    "completion = client.chat.completions.create(\n",
    "  model=\"gpt-3.5-turbo\",\n",
    "  messages=[\n",
    "    {\"role\": \"system\", \"content\": \"You are a poetic assistant, skilled in explaining complex programming concepts with creative flair.\"},\n",
    "    {\"role\": \"user\", \"content\": \"Compose a poem that explains the concept of recursion in programming.\"}\n",
    "  ]\n",
    ")\n",
    "\n",
    "print(completion.choices[0].message)"
   ]
  }
 ],
 "metadata": {
  "kernelspec": {
   "display_name": ".venv",
   "language": "python",
   "name": "python3"
  },
  "language_info": {
   "codemirror_mode": {
    "name": "ipython",
    "version": 3
   },
   "file_extension": ".py",
   "mimetype": "text/x-python",
   "name": "python",
   "nbconvert_exporter": "python",
   "pygments_lexer": "ipython3",
   "version": "3.12.1"
  }
 },
 "nbformat": 4,
 "nbformat_minor": 2
}
